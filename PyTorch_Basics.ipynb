{
 "cells": [
  {
   "cell_type": "code",
   "execution_count": 3,
   "metadata": {
    "id": "WCZB3Ye5MBHu"
   },
   "outputs": [],
   "source": [
    "import torch\n",
    "\n",
    "# create a tensor\n",
    "new_tensor = torch.Tensor([[1, 2], [3, 4]])\n",
    "\n",
    "\n",
    "# create a 6 x 3 tensor with random values\n",
    "empty_tensor = torch.Tensor(6, 3)\n",
    "\n",
    "# create a 2 x 3 tensor with random values between -1and 1\n",
    "uniform_tensor = torch.Tensor(2, 3).uniform_(-1, 1)\n",
    "\n",
    "# create a 2 x 3 tensor with random values from a uniform distribution on the interval [0, 1)\n",
    "rand_tensor = torch.rand(2, 3)\n",
    "\n",
    "# create a 2 x 3 tensor of zeros\n",
    "zero_tensor = torch.zeros(2, 3)"
   ]
  },
  {
   "cell_type": "code",
   "execution_count": 4,
   "metadata": {
    "id": "kvpZLYM3MF5e"
   },
   "outputs": [],
   "source": [
    "new_tensor = torch.Tensor([[1, 2], [3, 4]]) \n",
    "\n",
    "\n",
    "# access an element at position 1, 0\n",
    "print(new_tensor[1][0])           # tensor([ 3.])\n",
    "print(new_tensor[1][0].item())    # 3.\n",
    "\n",
    "# replace an element at position 0, 0\n",
    "new_tensor[0][0] = 5\n",
    "print(new_tensor)                 # tensor([[ 5.,  2.],[ 3.,  4.]])"
   ]
  },
  {
   "cell_type": "code",
   "execution_count": null,
   "metadata": {
    "id": "TTerQu7WMF73"
   },
   "outputs": [],
   "source": [
    "## slicing examples\n",
    "slice_tensor = torch.Tensor([[1, 2, 3], [4, 5, 6], [7, 8, 9]])\n",
    "# elements from every row, first column\n",
    "print(slice_tensor[:, 0])         # tensor([ 1.,  4.,  7.])\n",
    "\n",
    "# elements from every row, last column\n",
    "print(slice_tensor[:, -1])        # tensor([ 3.,  6.,  9.])\n",
    "\n",
    "# all elements on the second row\n",
    "print(slice_tensor[2, :])         # tensor([ 4.,  5.,  6.])\n",
    "\n",
    "# all elements from first two rows\n",
    "print(slice_tensor[:2, :])        # tensor([[ 1.,  2.,  3.],[ 4.,  5.,  6.]])"
   ]
  },
  {
   "cell_type": "code",
   "execution_count": null,
   "metadata": {
    "id": "KlSSfOAtMGA7"
   },
   "outputs": [],
   "source": [
    "new_tensor = torch.Tensor([[1, 2], [3, 4]])\n",
    "# type of a tensor\n",
    "print(new_tensor.type())   # 'torch.FloatTensor'\n",
    "\n",
    "\n",
    "# shape of a tensor\n",
    "print(new_tensor.shape)    # torch.Size([2, 2])\n",
    "print(new_tensor.size())   # torch.Size([2, 2])\n",
    "\n",
    "# dimension of a tensor\n",
    "print(new_tensor.dim())    # 2\n",
    "\n",
    "reshape_tensor = torch.Tensor([[1, 2], [3, 4]])\n",
    "reshape_tensor.view(1,4)   # tensor([[ 1.,  2.,  3.,  4.]])\n",
    "reshape_tensor.view(4,1)   # tensor([[ 1.],[ 2.],[ 3.],[ 4.]])"
   ]
  },
  {
   "cell_type": "code",
   "execution_count": null,
   "metadata": {
    "id": "Mg2SA5gVMGDC"
   },
   "outputs": [],
   "source": [
    "x = torch.rand(5, 3)\n",
    "y = torch.rand(5, 3)\n",
    "print(x + y)\n",
    "\n",
    "\n",
    "print(torch.add(x, y))\n",
    "\n",
    "result = torch.empty(5, 3)\n",
    "torch.add(x, y, out=result)\n",
    "print(result)\n",
    "\n",
    "\n",
    "my_tensor = torch.rand(5, 3)\n",
    "# regular transpose function\n",
    "my_tensor.t()\n",
    "# transpose via permute function\n",
    "my_tensor.permute(-1,0)\n",
    "\n",
    "\n",
    "tensor_1 = torch.randn(3, 3)\n",
    "tensor_2 = torch.randn(3, 3)\n",
    "maxtrix_prod = tensor_1.mm(tensor_2)"
   ]
  },
  {
   "cell_type": "code",
   "execution_count": null,
   "metadata": {
    "id": "jDxP-qTPMMwa"
   },
   "outputs": [],
   "source": [
    "x = torch.randn(4, 4)\n",
    "y = torch.randn(4, 4)\n",
    "if torch.cuda.is_available():\n",
    "    device = torch.device(\"cuda\")\n",
    "    x = x.to(device)\n",
    "    y = y.to(device)  \n",
    "    z = x + y\n",
    "    print(z)"
   ]
  },
  {
   "cell_type": "code",
   "execution_count": null,
   "metadata": {
    "id": "PgVqyDtpMMy6"
   },
   "outputs": [],
   "source": [
    "import numpy as np\n",
    "\n",
    "np_ndarray = np.random.randn(2,2)\n",
    "\n",
    "# NumPy ndarray to PyTorch tensor\n",
    "to_tensor = torch.from_numpy(np_ndarray)\n",
    "\n",
    "\n",
    "# PyTorch tensor to NumPy array\n",
    "to_ndarray = to_tensor.numpy()"
   ]
  },
  {
   "cell_type": "code",
   "execution_count": null,
   "metadata": {},
   "outputs": [],
   "source": []
  }
 ],
 "metadata": {
  "colab": {
   "collapsed_sections": [],
   "name": "PyTorch_Basics.ipynb",
   "provenance": []
  },
  "kernelspec": {
   "display_name": "Python 3",
   "language": "python",
   "name": "python3"
  },
  "language_info": {
   "codemirror_mode": {
    "name": "ipython",
    "version": 3
   },
   "file_extension": ".py",
   "mimetype": "text/x-python",
   "name": "python",
   "nbconvert_exporter": "python",
   "pygments_lexer": "ipython3",
   "version": "3.7.3"
  }
 },
 "nbformat": 4,
 "nbformat_minor": 1
}
