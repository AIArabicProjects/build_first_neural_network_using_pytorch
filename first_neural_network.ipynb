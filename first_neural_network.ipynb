{
 "cells": [
  {
   "cell_type": "markdown",
   "metadata": {
    "id": "Fz7Xygqo3s3b"
   },
   "source": [
    "# PyTorch بناء شبكة عصبونية باستخدام بايتورش "
   ]
  },
  {
   "cell_type": "code",
   "execution_count": null,
   "metadata": {
    "colab": {
     "base_uri": "https://localhost:8080/",
     "height": 34
    },
    "id": "tLB23K0eGrIm",
    "outputId": "f1af50f0-4498-43fa-e617-50778589fa39"
   },
   "outputs": [],
   "source": [
    "import torch\n",
    "\n",
    "import os\n",
    "import numpy as np\n",
    "import pandas as pd\n",
    "from tqdm import tqdm\n",
    "import seaborn as sns\n",
    "from pylab import rcParams\n",
    "import matplotlib.pyplot as plt\n",
    "from matplotlib import rc\n",
    "%matplotlib inline\n",
    "\n",
    "from sklearn.model_selection import train_test_split\n",
    "from sklearn.metrics import confusion_matrix, classification_report\n",
    "\n",
    "from torch import nn, optim\n",
    "import torch.nn.functional as F\n",
    "\n",
    "sns.set(style='whitegrid', palette='muted', font_scale=1.2)\n",
    "HAPPY_COLORS_PALETTE = [\"#01BEFE\", \"#FFDD00\", \"#FF7D00\", \"#FF006D\", \"#93D30C\", \"#8F00FF\"]\n",
    "sns.set_palette(sns.color_palette(HAPPY_COLORS_PALETTE))\n",
    "rcParams['figure.figsize'] = 12, 8\n",
    "\n",
    "RANDOM_SEED = 42\n",
    "np.random.seed(RANDOM_SEED)\n",
    "torch.manual_seed(RANDOM_SEED)"
   ]
  },
  {
   "cell_type": "markdown",
   "metadata": {
    "id": "I67ain8jB3bP"
   },
   "source": [
    "## البيانات"
   ]
  },
  {
   "cell_type": "code",
   "execution_count": null,
   "metadata": {
    "colab": {
     "base_uri": "https://localhost:8080/",
     "height": 309
    },
    "id": "pb7qBnsKIb_4",
    "outputId": "2ae3800b-47a5-4fd0-97de-d6e12fd0fd18"
   },
   "outputs": [],
   "source": [
    "df = pd.read_csv('weatherAUS.csv')\n",
    "df.head()"
   ]
  },
  {
   "cell_type": "code",
   "execution_count": null,
   "metadata": {
    "colab": {
     "base_uri": "https://localhost:8080/",
     "height": 34
    },
    "id": "VYs-oeNAH23q",
    "outputId": "0a2df6a0-f840-40cb-f30f-7a31a0a63623"
   },
   "outputs": [],
   "source": [
    "df.shape"
   ]
  },
  {
   "cell_type": "markdown",
   "metadata": {
    "id": "3x-gF4Y83Ycm"
   },
   "source": [
    "## المعالجة المسبقة للبيانات"
   ]
  },
  {
   "cell_type": "code",
   "execution_count": null,
   "metadata": {
    "id": "TMozkylDI1uY"
   },
   "outputs": [],
   "source": [
    "cols = ['Rainfall', 'Humidity3pm', 'Pressure9am', 'RainToday', 'RainTomorrow']\n",
    "\n",
    "df = df[cols]"
   ]
  },
  {
   "cell_type": "code",
   "execution_count": null,
   "metadata": {
    "id": "BZxTNJu2J5C5"
   },
   "outputs": [],
   "source": [
    "df['RainToday'].replace({'No': 0, 'Yes': 1}, inplace = True)\n",
    "df['RainTomorrow'].replace({'No': 0, 'Yes': 1}, inplace = True)"
   ]
  },
  {
   "cell_type": "code",
   "execution_count": null,
   "metadata": {
    "colab": {
     "base_uri": "https://localhost:8080/",
     "height": 204
    },
    "id": "sd4eBNn4NTUD",
    "outputId": "6332016f-bccb-4769-e268-96867cc3c6bb"
   },
   "outputs": [],
   "source": [
    "df = df.dropna(how='any')\n",
    "df.head()"
   ]
  },
  {
   "cell_type": "code",
   "execution_count": null,
   "metadata": {
    "colab": {
     "base_uri": "https://localhost:8080/",
     "height": 506
    },
    "id": "A66FQPqEOydL",
    "outputId": "e14d6127-a3ec-4200-bc0a-ee25a3bf6e84"
   },
   "outputs": [],
   "source": [
    "sns.countplot(df.RainTomorrow);"
   ]
  },
  {
   "cell_type": "code",
   "execution_count": null,
   "metadata": {
    "colab": {
     "base_uri": "https://localhost:8080/",
     "height": 68
    },
    "id": "ME9fnVlg0m3F",
    "outputId": "2010037e-f45f-4e9d-dac9-eea738695c7e"
   },
   "outputs": [],
   "source": [
    "df.RainTomorrow.value_counts() / df.shape[0]"
   ]
  },
  {
   "cell_type": "code",
   "execution_count": null,
   "metadata": {
    "id": "RdI7qBpgNTr7"
   },
   "outputs": [],
   "source": [
    "X = df[['Rainfall', 'Humidity3pm', 'RainToday', 'Pressure9am']]\n",
    "y = df[['RainTomorrow']]\n",
    "\n",
    "X_train, X_test, y_train, y_test = train_test_split(X, y, test_size=0.2, random_state=RANDOM_SEED)"
   ]
  },
  {
   "cell_type": "code",
   "execution_count": null,
   "metadata": {
    "colab": {
     "base_uri": "https://localhost:8080/",
     "height": 51
    },
    "id": "GGOBFwarzrts",
    "outputId": "4d4aee72-b2e5-4139-ef0e-338c88e9ea63"
   },
   "outputs": [],
   "source": [
    "X_train = torch.from_numpy(X_train.to_numpy()).float()\n",
    "y_train = torch.squeeze(torch.from_numpy(y_train.to_numpy()).float())\n",
    "\n",
    "X_test = torch.from_numpy(X_test.to_numpy()).float()\n",
    "y_test = torch.squeeze(torch.from_numpy(y_test.to_numpy()).float())\n",
    "\n",
    "print(X_train.shape, y_train.shape)\n",
    "print(X_test.shape, y_test.shape)"
   ]
  },
  {
   "cell_type": "markdown",
   "metadata": {
    "id": "WS3p73do3T4X"
   },
   "source": [
    "## Building a Neural Network\n",
    "\n",
    "We'll build a simple Neural Network (NN) that tries to predicts will it rain tomorrow. \n",
    "\n",
    "Our input contains data from the four columns: `Rainfall, Humidity3pm, RainToday, Pressure9am`. We'll create an appropriate input layer for that.\n",
    "\n",
    "The output will be a number between 0 and 1, representing how likely (our model thinks) it is going to rain tomorrow. The prediction will be given to us by the final (output) layer of the network. \n",
    "\n",
    "We'll add two (hidden) layers between the input and output layers. The parameters (neurons) of those layer will decide the final output. All layers will be fully-connected.\n",
    "\n",
    "One easy way to build the NN with PyTorch is to create a class that inherits from `torch.nn.Module`:\n"
   ]
  },
  {
   "cell_type": "code",
   "execution_count": null,
   "metadata": {
    "id": "h1XNn_zmN7C_"
   },
   "outputs": [],
   "source": [
    "class Net(nn.Module):\n",
    "\n",
    "  def __init__(self, n_features):\n",
    "    super(Net, self).__init__()\n",
    "    self.fc1 = nn.Linear(n_features, 5)\n",
    "    self.fc2 = nn.Linear(5, 3)\n",
    "    self.fc3 = nn.Linear(3, 1)\n",
    "\n",
    "  def forward(self, x):\n",
    "    x = F.relu(self.fc1(x))\n",
    "    x = F.relu(self.fc2(x))\n",
    "    return torch.sigmoid(self.fc3(x))"
   ]
  },
  {
   "cell_type": "code",
   "execution_count": null,
   "metadata": {
    "colab": {
     "base_uri": "https://localhost:8080/",
     "height": 612
    },
    "id": "iVF6WoxRl6bT",
    "outputId": "1aea57d6-c97d-42af-a2b2-b05a937082b8"
   },
   "outputs": [],
   "source": [
    "net = Net(X_train.shape[1])"
   ]
  },
  {
   "cell_type": "markdown",
   "metadata": {
    "id": "Hj_KFvzl3SsA"
   },
   "source": [
    "## التدريب"
   ]
  },
  {
   "cell_type": "code",
   "execution_count": null,
   "metadata": {
    "id": "MhL1DT_MQIIf"
   },
   "outputs": [],
   "source": [
    "criterion = nn.BCELoss()"
   ]
  },
  {
   "cell_type": "code",
   "execution_count": null,
   "metadata": {
    "id": "Q2rXijYXUEjJ"
   },
   "outputs": [],
   "source": [
    "optimizer = optim.Adam(net.parameters(), lr=0.001)"
   ]
  },
  {
   "cell_type": "code",
   "execution_count": null,
   "metadata": {
    "id": "OHX2pDdkuzvo"
   },
   "outputs": [],
   "source": [
    "device = torch.device(\"cuda:0\" if torch.cuda.is_available() else \"cpu\")"
   ]
  },
  {
   "cell_type": "code",
   "execution_count": null,
   "metadata": {
    "id": "6fHaY9Owvb6s"
   },
   "outputs": [],
   "source": [
    "X_train = X_train.to(device)\n",
    "y_train = y_train.to(device)\n",
    "\n",
    "X_test = X_test.to(device)\n",
    "y_test = y_test.to(device)"
   ]
  },
  {
   "cell_type": "code",
   "execution_count": null,
   "metadata": {
    "id": "32SucCs6vXCp"
   },
   "outputs": [],
   "source": [
    "net = net.to(device)\n",
    "\n",
    "criterion = criterion.to(device)"
   ]
  },
  {
   "cell_type": "code",
   "execution_count": null,
   "metadata": {
    "id": "4AWiqHzlt59W"
   },
   "outputs": [],
   "source": [
    "def calculate_accuracy(y_true, y_pred):\n",
    "  predicted = y_pred.ge(.5).view(-1)\n",
    "  return (y_true == predicted).sum().float() / len(y_true)"
   ]
  },
  {
   "cell_type": "code",
   "execution_count": null,
   "metadata": {
    "colab": {
     "base_uri": "https://localhost:8080/",
     "height": 711
    },
    "id": "D6hnlmt1ciGo",
    "outputId": "32a64d98-b40a-4229-d3ee-a218eaf0dc80"
   },
   "outputs": [],
   "source": [
    "def round_tensor(t, decimal_places=3):\n",
    "  return round(t.item(), decimal_places)\n",
    "\n",
    "for epoch in range(1000):\n",
    "    \n",
    "    y_pred = net(X_train)\n",
    "    \n",
    "    y_pred = torch.squeeze(y_pred)\n",
    "    train_loss = criterion(y_pred, y_train)\n",
    "    \n",
    "    if epoch % 100 == 0:\n",
    "      train_acc = calculate_accuracy(y_train, y_pred)\n",
    "\n",
    "      y_test_pred = net(X_test)\n",
    "      y_test_pred = torch.squeeze(y_test_pred)\n",
    "\n",
    "      test_loss = criterion(y_test_pred, y_test)\n",
    "\n",
    "      test_acc = calculate_accuracy(y_test, y_test_pred)\n",
    "      print(\n",
    "f'''epoch {epoch}\n",
    "Train set - loss: {round_tensor(train_loss)}, accuracy: {round_tensor(train_acc)}\n",
    "Test  set - loss: {round_tensor(test_loss)}, accuracy: {round_tensor(test_acc)}\n",
    "''')\n",
    "    \n",
    "    optimizer.zero_grad()\n",
    "    \n",
    "    train_loss.backward()\n",
    "    \n",
    "    optimizer.step()"
   ]
  },
  {
   "cell_type": "markdown",
   "metadata": {
    "id": "KIRPLYNnu3my"
   },
   "source": [
    "## حفظ النموذج"
   ]
  },
  {
   "cell_type": "code",
   "execution_count": null,
   "metadata": {
    "colab": {
     "base_uri": "https://localhost:8080/",
     "height": 72
    },
    "id": "EKVMkwgMxGZB",
    "outputId": "3a29a940-b1ff-471f-fc27-9c74302a5103"
   },
   "outputs": [],
   "source": [
    "MODEL_PATH = 'model.pth'\n",
    "\n",
    "torch.save(net, MODEL_PATH)"
   ]
  },
  {
   "cell_type": "markdown",
   "metadata": {},
   "source": [
    "## تحميل النموذج"
   ]
  },
  {
   "cell_type": "code",
   "execution_count": null,
   "metadata": {
    "id": "9ckrjxYPxZ4w"
   },
   "outputs": [],
   "source": [
    "net = torch.load(MODEL_PATH)"
   ]
  },
  {
   "cell_type": "markdown",
   "metadata": {
    "id": "5CobNIWq3OQc"
   },
   "source": [
    "## التقييم"
   ]
  },
  {
   "cell_type": "code",
   "execution_count": null,
   "metadata": {
    "colab": {
     "base_uri": "https://localhost:8080/",
     "height": 173
    },
    "id": "kvaK-sVE1Xmy",
    "outputId": "2f97ef17-0dbc-4a01-acd6-d4741e8d875c"
   },
   "outputs": [],
   "source": [
    "classes = ['No rain', 'Raining']\n",
    "\n",
    "y_pred = net(X_test)\n",
    "\n",
    "y_pred = y_pred.ge(.5).view(-1).cpu()\n",
    "y_test = y_test.cpu()\n",
    "\n",
    "print(classification_report(y_test, y_pred, target_names=classes))"
   ]
  },
  {
   "cell_type": "code",
   "execution_count": null,
   "metadata": {
    "colab": {
     "base_uri": "https://localhost:8080/",
     "height": 529
    },
    "id": "d6g_WirP1iMz",
    "outputId": "d6a22481-344c-4417-dde3-d518d969f976"
   },
   "outputs": [],
   "source": [
    "cm = confusion_matrix(y_test, y_pred)\n",
    "df_cm = pd.DataFrame(cm, index=classes, columns=classes)\n",
    "\n",
    "hmap = sns.heatmap(df_cm, annot=True, fmt=\"d\")\n",
    "hmap.yaxis.set_ticklabels(hmap.yaxis.get_ticklabels(), rotation=0, ha='right')\n",
    "hmap.xaxis.set_ticklabels(hmap.xaxis.get_ticklabels(), rotation=30, ha='right')\n",
    "plt.ylabel('True label')\n",
    "plt.xlabel('Predicted label');"
   ]
  },
  {
   "cell_type": "markdown",
   "metadata": {
    "id": "vWxQzka2sl4z"
   },
   "source": [
    "## التنبؤ"
   ]
  },
  {
   "cell_type": "code",
   "execution_count": null,
   "metadata": {
    "id": "rFBlrrzUs3Ft"
   },
   "outputs": [],
   "source": [
    "def will_it_rain(rainfall, humidity, rain_today, pressure):\n",
    "  t = torch.as_tensor([rainfall, humidity, rain_today, pressure]) \\\n",
    "      .float() \\\n",
    "      .to(device)\n",
    "  output = net(t)\n",
    "  return output.ge(0.5).item()"
   ]
  },
  {
   "cell_type": "code",
   "execution_count": null,
   "metadata": {
    "colab": {
     "base_uri": "https://localhost:8080/",
     "height": 35
    },
    "id": "DhN0JlpHuAR5",
    "outputId": "76b0a591-e553-490a-ab76-910907360fb5"
   },
   "outputs": [],
   "source": [
    "will_it_rain(rainfall=10, humidity=10, rain_today=True, pressure=2)"
   ]
  },
  {
   "cell_type": "code",
   "execution_count": null,
   "metadata": {
    "colab": {
     "base_uri": "https://localhost:8080/",
     "height": 35
    },
    "id": "wnn7WMUeuCrn",
    "outputId": "db654e1f-d399-429e-8ea2-08b53d55f7d7"
   },
   "outputs": [],
   "source": [
    "will_it_rain(rainfall=0, humidity=1, rain_today=False, pressure=100)"
   ]
  }
 ],
 "metadata": {
  "accelerator": "GPU",
  "colab": {
   "collapsed_sections": [],
   "name": "04.first-neural-network.ipynb",
   "provenance": []
  },
  "kernelspec": {
   "display_name": "Python 3",
   "language": "python",
   "name": "python3"
  },
  "language_info": {
   "codemirror_mode": {
    "name": "ipython",
    "version": 3
   },
   "file_extension": ".py",
   "mimetype": "text/x-python",
   "name": "python",
   "nbconvert_exporter": "python",
   "pygments_lexer": "ipython3",
   "version": "3.7.3"
  }
 },
 "nbformat": 4,
 "nbformat_minor": 1
}
